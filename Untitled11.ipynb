{
 "cells": [
  {
   "cell_type": "code",
   "execution_count": 1,
   "id": "10eefb98-d4ad-46cf-a21f-1cd40c8ccce3",
   "metadata": {},
   "outputs": [
    {
     "data": {
      "text/html": [
       "<div>\n",
       "<style scoped>\n",
       "    .dataframe tbody tr th:only-of-type {\n",
       "        vertical-align: middle;\n",
       "    }\n",
       "\n",
       "    .dataframe tbody tr th {\n",
       "        vertical-align: top;\n",
       "    }\n",
       "\n",
       "    .dataframe thead th {\n",
       "        text-align: right;\n",
       "    }\n",
       "</style>\n",
       "<table border=\"1\" class=\"dataframe\">\n",
       "  <thead>\n",
       "    <tr style=\"text-align: right;\">\n",
       "      <th></th>\n",
       "      <th>rock density</th>\n",
       "      <th>seismic velocity</th>\n",
       "    </tr>\n",
       "  </thead>\n",
       "  <tbody>\n",
       "    <tr>\n",
       "      <th>0</th>\n",
       "      <td>2.60</td>\n",
       "      <td>4.2</td>\n",
       "    </tr>\n",
       "    <tr>\n",
       "      <th>1</th>\n",
       "      <td>2.65</td>\n",
       "      <td>4.5</td>\n",
       "    </tr>\n",
       "    <tr>\n",
       "      <th>2</th>\n",
       "      <td>2.70</td>\n",
       "      <td>4.7</td>\n",
       "    </tr>\n",
       "    <tr>\n",
       "      <th>3</th>\n",
       "      <td>2.75</td>\n",
       "      <td>4.9</td>\n",
       "    </tr>\n",
       "    <tr>\n",
       "      <th>4</th>\n",
       "      <td>2.80</td>\n",
       "      <td>5.0</td>\n",
       "    </tr>\n",
       "  </tbody>\n",
       "</table>\n",
       "</div>"
      ],
      "text/plain": [
       "   rock density  seismic velocity\n",
       "0          2.60               4.2\n",
       "1          2.65               4.5\n",
       "2          2.70               4.7\n",
       "3          2.75               4.9\n",
       "4          2.80               5.0"
      ]
     },
     "execution_count": 1,
     "metadata": {},
     "output_type": "execute_result"
    }
   ],
   "source": [
    "import pandas as pd\n",
    "petrophy={'rock density':[2.60, 2.65, 2.70, 2.75, 2.80],\n",
    "          'seismic velocity':[4.2, 4.5, 4.7, 4.9, 5.0]}\n",
    "petro_df=pd.DataFrame(petrophy)\n",
    "petro_df\n"
   ]
  },
  {
   "cell_type": "code",
   "execution_count": 4,
   "id": "aacaae34-0bda-438d-8f12-dfc6a7483a9d",
   "metadata": {},
   "outputs": [
    {
     "name": "stdout",
     "output_type": "stream",
     "text": [
      "sum of x: 13.5\n",
      "sum of x^2: 36.475\n",
      "--------------------------------------------------\n",
      "Mean of Density is 2.70 g/cc\n",
      "Standard Deviation of Density is 0.08 g/cc\n"
     ]
    }
   ],
   "source": [
    "import pandas as pd\n",
    "petrophy={'rock density':[2.60, 2.65, 2.70, 2.75, 2.80],\n",
    "          'seismic velocity':[4.2, 4.5, 4.7, 4.9, 5.0]}\n",
    "petro_df=pd.DataFrame(petrophy)\n",
    "petro_df\n",
    "\n",
    "import numpy as np\n",
    "import math \n",
    "\n",
    "X=np.array(petro_df ['rock density'])\n",
    "Y=np.array(petro_df ['seismic velocity'])\n",
    "n=len(X)\n",
    "\n",
    "n=0\n",
    "sum_x=0\n",
    "sum_x2=0\n",
    "\n",
    "for x in X:\n",
    "    sum_x += x\n",
    "    sum_x2 += x**2\n",
    "    n +=1\n",
    "\n",
    "print(f\"sum of x: (sum_x)\")\n",
    "print(f\"sum of x^2: {sum_x2)\")\n",
    "\n",
    "mean_x = sum_x/n\n",
    "std_dev= math.sqrt((n*((n*sum_x2-sum_x**2)/(n*(n-1)))\n",
    "\n",
    "print('--------------------------------------------------')\n",
    "print(f'Mean of Density is {mean_x:.2f} g/cc')\n",
    "print(f'Standard Deviation of Density is {std_dev:.2f} g/cc')\n",
    "      "
   ]
  },
  {
   "cell_type": "code",
   "execution_count": 11,
   "id": "e8328329-078f-4fde-abbe-d1b53bf5bb28",
   "metadata": {},
   "outputs": [
    {
     "name": "stdout",
     "output_type": "stream",
     "text": [
      "sum of x: 23.299999999999997\n",
      "sum of x^2: 108.99000000000001\n",
      "--------------------------------------------------\n",
      "Mean of velocity is 4.66 km/s\n",
      "Standard Deviation of velocity is 0.32 km/s\n"
     ]
    }
   ],
   "source": [
    "import pandas as pd\n",
    "petrophy={'rock density':[2.60, 2.65, 2.70, 2.75, 2.80],\n",
    "          'seismic velocity':[4.2, 4.5, 4.7, 4.9, 5.0]}\n",
    "petro_df=pd.DataFrame(petrophy)\n",
    "petro_df\n",
    "\n",
    "import numpy as np\n",
    "import math \n",
    "\n",
    "X=np.array(petro_df ['rock density'])\n",
    "Y=np.array(petro_df ['seismic velocity'])\n",
    "N=len(Y)\n",
    "\n",
    "n=0\n",
    "sum_x=0\n",
    "sum_x2=0\n",
    "\n",
    "while n < N:\n",
    "    X=Y[n]\n",
    "\n",
    "    sum_x += x\n",
    "    sum_x2 += x**2\n",
    "    x=Y[n]\n",
    "    n += 1\n",
    "\n",
    "print(f\"sum of x: {sum_x}\")\n",
    "print(f\"sum of x^2: {sum_x2}\")\n",
    "\n",
    "mean_x= sum_x/n\n",
    "std_dev = math.sqrt((n*sum_x2-sum_x**2)/(n*(n-1)))\n",
    "\n",
    "print('--------------------------------------------------')\n",
    "print(f'Mean of velocity is {mean_x:.2f} km/s')\n",
    "print(f'Standard Deviation of velocity is {std_dev:.2f} km/s')"
   ]
  },
  {
   "cell_type": "code",
   "execution_count": 12,
   "id": "de88dcef-3d03-4708-8d18-c532b5bbf0cf",
   "metadata": {},
   "outputs": [
    {
     "name": "stdout",
     "output_type": "stream",
     "text": [
      "sum of x: 23.299999999999997\n",
      "sum of x^2: 108.99000000000001\n",
      "--------------------------------------------------\n",
      "Mean of velocity is 4.66 km/s\n",
      "Standard Deviation of velocity is 0.32 km/s\n"
     ]
    }
   ],
   "source": [
    "import pandas as pd\n",
    "petrophy={'rock density':[2.60, 2.65, 2.70, 2.75, 2.80],\n",
    "          'seismic velocity':[4.2, 4.5, 4.7, 4.9, 5.0]}\n",
    "petro_df=pd.DataFrame(petrophy)\n",
    "petro_df\n",
    "\n",
    "import numpy as np\n",
    "import math \n",
    "\n",
    "X=np.array(petro_df ['rock density'])\n",
    "Y=np.array(petro_df ['seismic velocity'])\n",
    "n=len(Y)\n",
    "\n",
    "n=0\n",
    "sum_x=0\n",
    "sum_x2=0\n",
    "\n",
    "for x in Y:\n",
    "    sum_x += x\n",
    "    sum_x2 += x**2\n",
    "    n +=1\n",
    "\n",
    "print(f\"sum of x: {sum_x}\")\n",
    "print(f\"sum of x^2: {sum_x2}\")\n",
    "\n",
    "mean_x= sum_x/n\n",
    "std_dev = math.sqrt((n*sum_x2-sum_x**2)/(n*(n-1)))\n",
    "\n",
    "print('--------------------------------------------------')\n",
    "print(f'Mean of velocity is {mean_x:.2f} km/s')\n",
    "print(f'Standard Deviation of velocity is {std_dev:.2f} km/s')"
   ]
  },
  {
   "cell_type": "code",
   "execution_count": null,
   "id": "ebabdd02-62e0-4345-bc33-29914949be6c",
   "metadata": {},
   "outputs": [],
   "source": []
  }
 ],
 "metadata": {
  "kernelspec": {
   "display_name": "Python 3 (ipykernel)",
   "language": "python",
   "name": "python3"
  },
  "language_info": {
   "codemirror_mode": {
    "name": "ipython",
    "version": 3
   },
   "file_extension": ".py",
   "mimetype": "text/x-python",
   "name": "python",
   "nbconvert_exporter": "python",
   "pygments_lexer": "ipython3",
   "version": "3.12.5"
  }
 },
 "nbformat": 4,
 "nbformat_minor": 5
}
